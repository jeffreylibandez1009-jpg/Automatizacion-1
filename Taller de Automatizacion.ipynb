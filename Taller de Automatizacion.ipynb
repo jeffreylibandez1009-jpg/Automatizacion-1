{
 "cells": [
  {
   "cell_type": "markdown",
   "id": "cada2d73",
   "metadata": {},
   "source": [
    "Laboratorio I – Automatización I Jeffreyli Bandez "
   ]
  },
  {
   "cell_type": "markdown",
   "id": "edef138c",
   "metadata": {},
   "source": [
    "Desarrolle los siguientes programas usando VS code:\n",
    "a. Investigue como definir funciones en Python usando “def”, describa un breve ejemplo."
   ]
  },
  {
   "cell_type": "markdown",
   "id": "33831906",
   "metadata": {},
   "source": [
    "En Python, def se usa para definir funciones. Las funciones son bloques de código reutilizables que realizan una tarea específica. Puedes pensar en ellas como \"mini programas\" que puedes invocar desde cualquier parte de tu código."
   ]
  },
  {
   "cell_type": "code",
   "execution_count": 1,
   "id": "12c14279",
   "metadata": {},
   "outputs": [
    {
     "name": "stdout",
     "output_type": "stream",
     "text": [
      "Hola,Andrea!\n",
      "Hola,Carolina!\n"
     ]
    }
   ],
   "source": [
    "def saludar_amigos(nombre=\"Carolina\"): \n",
    "   print(f\"Hola,{nombre}!\")\n",
    "saludar_amigos(\"Andrea\")  \n",
    "saludar_amigos()"
   ]
  },
  {
   "cell_type": "markdown",
   "id": "2d6a2f0c",
   "metadata": {},
   "source": [
    "B. Desarrolle una calculadora básica usando funciones, en la cual ingresen 2 números enteros y el\n",
    "tipo de operación a realizar en string. Como resultado la calculadora debe arrojar la operación\n",
    "deseada entre los 2 números."
   ]
  },
  {
   "cell_type": "code",
   "execution_count": null,
   "id": "6a919b62",
   "metadata": {},
   "outputs": [],
   "source": [
    "numeroa= int(input(\"Ingrese numero que sea entero: \"))\n",
    "numerob= int(input(\"Ingresar numero que sea entero:\"))\n",
    "Operacion= input(\"ingrese la operacion que desea hacer( sumar,restar,dividir o multiplicar):\")\n",
    "\n",
    "def sumar(a,b):\n",
    "    return a+b\n",
    "def restar(a,b):\n",
    "   return a-b\n",
    "def multiplicar(a,b):\n",
    "    return a*b \n",
    "def dividir(a,b):\n",
    "    if b==0:\n",
    "        print(f\"Error\")\n",
    "    return a/b\n",
    "    \n",
    "def calculadora( a,b,operacion):\n",
    "    if operacion==\"suma\":\n",
    "        return sumar(a,b)\n",
    "    elif operacion==\"resta\":\n",
    "        return restar(a,b)\n",
    "    elif operacion==\"multiplicacion\":\n",
    "        return multiplicar(a,b)\n",
    "    elif operacion==\"division\":\n",
    "        return dividir(a,b)\n",
    "    else:\n",
    "        print(\"Error\")\n",
    "\n",
    "resultado= calculadora(numeroa,numerob, Operacion.lower())\n",
    "print(\"tu resultado es :\", resultado)"
   ]
  },
  {
   "cell_type": "markdown",
   "id": "cc424ecc",
   "metadata": {},
   "source": [
    "c. Desarrolle un algoritmo en el cual usted pueda definir el tamaño de una matriz cuadrada con\n",
    "un numero N, posteriormente le pida cada uno de los valores de la matriz con la indicación\n",
    "exacta de donde ira ubicado. Finalmente, el algoritmo debe retornar al usuario la matriz\n",
    "deseada y su transpuesta."
   ]
  },
  {
   "cell_type": "code",
   "execution_count": 2,
   "id": "eae2c0ae",
   "metadata": {},
   "outputs": [
    {
     "name": "stdout",
     "output_type": "stream",
     "text": [
      "n\\Matriz original: \n",
      "[2, 4]\n",
      "[6, 8]\n",
      "\n",
      "Matriz transpuesta\n",
      "[2, 4]\n",
      "[6, 8]\n"
     ]
    }
   ],
   "source": [
    "tamaño=[]\n",
    "\n",
    "numero= int(input(\"Ingresar el numero de tamaño de la matriz querida: \"))\n",
    "\n",
    "for filas in range(numero):\n",
    "    fila=[]\n",
    "    for columna in range(numero):\n",
    "        valor= int(input(f\"Ingrese el valor para la posicion de ({filas},{columna}): \"))\n",
    "        fila.append(valor)\n",
    "    tamaño.append(fila)\n",
    "\n",
    "transpuesta=[]\n",
    "\n",
    "for filas in range(numero):\n",
    "    fila=[]\n",
    "    for columna in range(numero):\n",
    "        fila.append(tamaño[filas][columna])\n",
    "    transpuesta.append(fila)\n",
    "\n",
    "print(\"n\\Matriz original: \")\n",
    "for fila in tamaño:\n",
    "    print(fila)\n",
    "print(\"\\nMatriz transpuesta\")\n",
    "for fila in transpuesta:\n",
    "    print(fila)"
   ]
  },
  {
   "cell_type": "markdown",
   "id": "3c5b333c",
   "metadata": {},
   "source": [
    "D.Desarrolle un algoritmo que reciba un mes y día especifico, y nos dé una aproximación para esa\n",
    "fecha sobre la estación climática en la cual estamos.Considere los casos imposibles (30 de febrero, 31 de noviembre...entre otros...) para especificar el error o\n",
    "ajustar la fecha."
   ]
  },
  {
   "cell_type": "code",
   "execution_count": 3,
   "id": "ffb6bbd9",
   "metadata": {},
   "outputs": [
    {
     "name": "stdout",
     "output_type": "stream",
     "text": [
      "La fecha 13/9 corresponde a la estacion: Verano\n"
     ]
    }
   ],
   "source": [
    "Mes = int(input(\"Ingrese el numero del mes 1 al mes 12: \"))\n",
    "Dia = int(input(\"Ingrese el dia que desea averiguar: \"))\n",
    "\n",
    "dia_y_mes = {\n",
    "\n",
    "    1:31, 2:28, 3:21,\n",
    "    4:30, 5: 31, 6:30,\n",
    "    7:31, 8:31, 9:30,\n",
    "    10:31,11:30,12:31\n",
    "}\n",
    "\n",
    "if Mes < 1 or Mes > 12:\n",
    "    print(\"El mes ingresado no existe\")\n",
    "elif Dia < 1 or Dia > dia_y_mes[Mes]:\n",
    "    print(\"El dia ingresado no es valido\")\n",
    "\n",
    "else:\n",
    "    if (Mes==12 and Dia>=21) or (1 <= Mes <= 2) or (Mes == 3 and Dia< 21):\n",
    "        estacion= \"Invierno\"\n",
    "    elif (Mes == 3 and Dia >= 21) or (4 <= Mes <= 5) or (Mes == 6 and Dia < 21):\n",
    "        estacion=\"Primavera\"\n",
    "    elif (Mes == 6 and Dia >= 21) or (7 <= Mes <= 8) or ( Mes ==9 and Dia <21):\n",
    "        estacion= \"Verano\"\n",
    "    elif (Mes == 9 and Dia >=21) or ( 10 <= Mes <= 11) or ( Mes == 12 and Dia <21):\n",
    "        estacion=\"Otoño\"\n",
    "\n",
    "    print(f\"La fecha {Dia}/{Mes} corresponde a la estacion: {estacion}\")\n"
   ]
  },
  {
   "cell_type": "markdown",
   "id": "315c4891",
   "metadata": {},
   "source": [
    "E.Desarrolle un algoritmo que sea capaz de sumar una matriz aleatoria con una matriz ingresada\n",
    "por el usuario"
   ]
  },
  {
   "cell_type": "code",
   "execution_count": 4,
   "id": "28100bfc",
   "metadata": {},
   "outputs": [
    {
     "name": "stdout",
     "output_type": "stream",
     "text": [
      "n\\Matriz Aleatoria : \n",
      "[9, 8, 0, 4, 4, 3]\n",
      "[9, 8, 0, 4, 4, 3]\n",
      "\n",
      "Matriz transpuesta\n",
      "[2, 4]\n",
      "[9, 8, 0, 4, 4, 3]\n",
      "[11, 12]\n",
      "[18, 16]\n",
      "n\\Matriz Aleatoria : \n"
     ]
    }
   ],
   "source": [
    "import random \n",
    "n_m = int(input(\"Ingrese el tamaño de la matriz deseada: \"))\n",
    "\n",
    "matriz_usuario=[]\n",
    "\n",
    "for filas in range(n_m):\n",
    "    fila=[]\n",
    "    for columna in range(n_m):\n",
    "        valor= int(input(f\"Ingrese el valor para la posicion de ({filas},{columna}): \"))\n",
    "        fila.append(valor)\n",
    "    matriz_usuario.append(fila)\n",
    "\n",
    "matriz_aleatoria=[]\n",
    "\n",
    "for filas in range(n_m):\n",
    "    filas=[]\n",
    "    for columna in range(n_m):\n",
    "        fila.append(random.randint(0,9))\n",
    "    matriz_aleatoria.append(fila)\n",
    "\n",
    "matriz_suma=[]\n",
    "for filas in range(n_m):\n",
    "    fila=[]\n",
    "    for columna in range(n_m):\n",
    "        fila.append(matriz_aleatoria[filas][columna]+ matriz_usuario[filas][columna])   \n",
    "    matriz_usuario.append(fila)\n",
    "\n",
    "print(\"n\\Matriz Aleatoria : \")\n",
    "for fila in matriz_aleatoria:\n",
    "    print(fila)\n",
    "\n",
    "print(\"\\nMatriz transpuesta\")\n",
    "for fila in matriz_usuario:\n",
    "    print(fila)\n",
    "\n",
    "print(\"n\\Matriz Aleatoria : \")\n",
    "for fila in matriz_suma:\n",
    "    print(fila)\n"
   ]
  },
  {
   "cell_type": "markdown",
   "id": "95c06390",
   "metadata": {},
   "source": [
    "F.Una empresa de comercio electrónico necesita un programa en Python que procese reseñas de\n",
    "clientes.\n",
    "El programa debe:\n",
    "1. Pedir al usuario que ingrese varias reseñas de productos (mínimo 3).\n",
    "2. Convertir todas las reseñas a minúsculas y eliminar signos de puntuación básicos (. , ! ?).\n",
    "3. Guardar cada reseña en una lista.\n",
    "4. Crear un diccionario de frecuencias que indique cuántas veces aparece cada palabra en\n",
    "todas las reseñas combinadas.\n",
    "5. Identificar y mostrar:\n",
    "\n",
    "Las 3 palabras más frecuentes en las reseñas."
   ]
  },
  {
   "cell_type": "code",
   "execution_count": 4,
   "id": "f16eb0d6",
   "metadata": {},
   "outputs": [
    {
     "name": "stdout",
     "output_type": "stream",
     "text": [
      "Las 3 palabras más repetidas son:\n",
      "no: 1 veces\n",
      "me: 1 veces\n",
      "gusto: 1 veces\n"
     ]
    }
   ],
   "source": [
    "import string\n",
    "\n",
    "res = []\n",
    "\n",
    "for i in range(3):\n",
    "    opinion = str(input(f\"Ingrese su reseña: \"))\n",
    "    res.append(opinion)\n",
    "\n",
    "tabla = str.maketrans('', '', string.punctuation)\n",
    "\n",
    "\n",
    "res_procesadas = [opinion.translate(tabla).lower() for opinion in res]\n",
    "palabras = ''.join(res_procesadas).split()\n",
    "\n",
    "\n",
    "repetido = {}\n",
    "for rep in palabras:\n",
    "    if rep in repetido:\n",
    "        repetido[rep] += 1\n",
    "    else:\n",
    "        repetido[rep] = 1\n",
    "\n",
    "palabra_repetida = sorted(repetido.items(), key=lambda x: x[1], reverse=True)[:3]\n",
    "\n",
    "\n",
    "print(\"Las 3 palabras más repetidas son:\")\n",
    "for rep, frecuencia in palabra_repetida:\n",
    "    print(f\"{rep}: {frecuencia} veces\")\n",
    "\n"
   ]
  }
 ],
 "metadata": {
  "kernelspec": {
   "display_name": ".venv",
   "language": "python",
   "name": "python3"
  },
  "language_info": {
   "codemirror_mode": {
    "name": "ipython",
    "version": 3
   },
   "file_extension": ".py",
   "mimetype": "text/x-python",
   "name": "python",
   "nbconvert_exporter": "python",
   "pygments_lexer": "ipython3",
   "version": "3.11.1"
  }
 },
 "nbformat": 4,
 "nbformat_minor": 5
}
